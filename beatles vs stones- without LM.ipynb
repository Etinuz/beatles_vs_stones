{
 "cells": [
  {
   "cell_type": "code",
   "execution_count": 1,
   "metadata": {},
   "outputs": [],
   "source": [
    "%reload_ext autoreload\n",
    "%autoreload 2\n",
    "%matplotlib inline"
   ]
  },
  {
   "cell_type": "code",
   "execution_count": 2,
   "metadata": {
    "ExecuteTime": {
     "end_time": "2018-10-03T13:45:52.976366Z",
     "start_time": "2018-10-03T13:45:44.053902Z"
    }
   },
   "outputs": [],
   "source": [
    "from fastai import *\n",
    "from fastai.text import *"
   ]
  },
  {
   "cell_type": "markdown",
   "metadata": {},
   "source": [
    "# Data Preparation"
   ]
  },
  {
   "cell_type": "code",
   "execution_count": 3,
   "metadata": {
    "ExecuteTime": {
     "end_time": "2018-10-03T13:45:56.510080Z",
     "start_time": "2018-10-03T13:45:56.388054Z"
    }
   },
   "outputs": [],
   "source": [
    "BOS = 'xbos'  # beginning-of-sentence tag\n",
    "FLD = 'xfld'  # data field tag\n",
    "\n",
    "PATH = Path('/') \n",
    "path = PATH"
   ]
  },
  {
   "cell_type": "code",
   "execution_count": 4,
   "metadata": {
    "ExecuteTime": {
     "end_time": "2018-10-03T13:45:58.128013Z",
     "start_time": "2018-10-03T13:45:57.936649Z"
    }
   },
   "outputs": [
    {
     "data": {
      "text/plain": [
       "[]"
      ]
     },
     "execution_count": 4,
     "metadata": {},
     "output_type": "execute_result"
    }
   ],
   "source": [
    "LM_PATH= Path(\"data/models/\")\n",
    "LM_PATH.mkdir(parents=True, exist_ok=True)\n",
    "LM_PATH.ls()"
   ]
  },
  {
   "cell_type": "code",
   "execution_count": 5,
   "metadata": {
    "ExecuteTime": {
     "end_time": "2018-10-02T18:11:33.766657Z",
     "start_time": "2018-10-02T18:11:33.210581Z"
    }
   },
   "outputs": [
    {
     "data": {
      "text/html": [
       "<div>\n",
       "<style scoped>\n",
       "    .dataframe tbody tr th:only-of-type {\n",
       "        vertical-align: middle;\n",
       "    }\n",
       "\n",
       "    .dataframe tbody tr th {\n",
       "        vertical-align: top;\n",
       "    }\n",
       "\n",
       "    .dataframe thead th {\n",
       "        text-align: right;\n",
       "    }\n",
       "</style>\n",
       "<table border=\"1\" class=\"dataframe\">\n",
       "  <thead>\n",
       "    <tr style=\"text-align: right;\">\n",
       "      <th></th>\n",
       "      <th>web-scraper-order</th>\n",
       "      <th>web-scraper-start-url</th>\n",
       "      <th>pages</th>\n",
       "      <th>pages-href</th>\n",
       "      <th>songs</th>\n",
       "      <th>songs-href</th>\n",
       "      <th>text</th>\n",
       "      <th>label</th>\n",
       "    </tr>\n",
       "  </thead>\n",
       "  <tbody>\n",
       "    <tr>\n",
       "      <th>0</th>\n",
       "      <td>1543229139-166</td>\n",
       "      <td>https://songteksten.net/artist/lyrics/40/the-b...</td>\n",
       "      <td>5</td>\n",
       "      <td>https://songteksten.net/artist/lyrics/40/the-b...</td>\n",
       "      <td>Junk</td>\n",
       "      <td>https://songteksten.net/lyric/40/930/the-beatl...</td>\n",
       "      <td>The Beatles - Junk\\n(demo)\\n\\nMotorcars\\n\\nHan...</td>\n",
       "      <td>beatles</td>\n",
       "    </tr>\n",
       "    <tr>\n",
       "      <th>1</th>\n",
       "      <td>1543228955-76</td>\n",
       "      <td>https://songteksten.net/artist/lyrics/40/the-b...</td>\n",
       "      <td>7</td>\n",
       "      <td>https://songteksten.net/artist/lyrics/40/the-b...</td>\n",
       "      <td>Sure To Fall (In Love With You)</td>\n",
       "      <td>https://songteksten.net/lyric/40/1028/the-beat...</td>\n",
       "      <td>The Beatles - Sure To Fall (In Love With You)\\...</td>\n",
       "      <td>beatles</td>\n",
       "    </tr>\n",
       "    <tr>\n",
       "      <th>2</th>\n",
       "      <td>1543229286-237</td>\n",
       "      <td>https://songteksten.net/artist/lyrics/40/the-b...</td>\n",
       "      <td>3</td>\n",
       "      <td>https://songteksten.net/artist/lyrics/40/the-b...</td>\n",
       "      <td>Glad All Over</td>\n",
       "      <td>https://songteksten.net/lyric/40/856/the-beatl...</td>\n",
       "      <td>The Beatles - Glad All Over\\nAin`t no doubt ab...</td>\n",
       "      <td>beatles</td>\n",
       "    </tr>\n",
       "    <tr>\n",
       "      <th>3</th>\n",
       "      <td>1543229320-253</td>\n",
       "      <td>https://songteksten.net/artist/lyrics/40/the-b...</td>\n",
       "      <td>2</td>\n",
       "      <td>https://songteksten.net/artist/lyrics/40/the-b...</td>\n",
       "      <td>Everybody's Got Something To Hide Except For M...</td>\n",
       "      <td>https://songteksten.net/lyric/40/841/the-beatl...</td>\n",
       "      <td>The Beatles - Everybody's Got Something To Hid...</td>\n",
       "      <td>beatles</td>\n",
       "    </tr>\n",
       "    <tr>\n",
       "      <th>4</th>\n",
       "      <td>1543229294-241</td>\n",
       "      <td>https://songteksten.net/artist/lyrics/40/the-b...</td>\n",
       "      <td>3</td>\n",
       "      <td>https://songteksten.net/artist/lyrics/40/the-b...</td>\n",
       "      <td>From Us To You</td>\n",
       "      <td>https://songteksten.net/lyric/40/852/the-beatl...</td>\n",
       "      <td>The Beatles - From Us To You\\nDa da da da da d...</td>\n",
       "      <td>beatles</td>\n",
       "    </tr>\n",
       "  </tbody>\n",
       "</table>\n",
       "</div>"
      ],
      "text/plain": [
       "  web-scraper-order                              web-scraper-start-url  pages  \\\n",
       "0    1543229139-166  https://songteksten.net/artist/lyrics/40/the-b...      5   \n",
       "1     1543228955-76  https://songteksten.net/artist/lyrics/40/the-b...      7   \n",
       "2    1543229286-237  https://songteksten.net/artist/lyrics/40/the-b...      3   \n",
       "3    1543229320-253  https://songteksten.net/artist/lyrics/40/the-b...      2   \n",
       "4    1543229294-241  https://songteksten.net/artist/lyrics/40/the-b...      3   \n",
       "\n",
       "                                          pages-href  \\\n",
       "0  https://songteksten.net/artist/lyrics/40/the-b...   \n",
       "1  https://songteksten.net/artist/lyrics/40/the-b...   \n",
       "2  https://songteksten.net/artist/lyrics/40/the-b...   \n",
       "3  https://songteksten.net/artist/lyrics/40/the-b...   \n",
       "4  https://songteksten.net/artist/lyrics/40/the-b...   \n",
       "\n",
       "                                               songs  \\\n",
       "0                                               Junk   \n",
       "1                    Sure To Fall (In Love With You)   \n",
       "2                                      Glad All Over   \n",
       "3  Everybody's Got Something To Hide Except For M...   \n",
       "4                                     From Us To You   \n",
       "\n",
       "                                          songs-href  \\\n",
       "0  https://songteksten.net/lyric/40/930/the-beatl...   \n",
       "1  https://songteksten.net/lyric/40/1028/the-beat...   \n",
       "2  https://songteksten.net/lyric/40/856/the-beatl...   \n",
       "3  https://songteksten.net/lyric/40/841/the-beatl...   \n",
       "4  https://songteksten.net/lyric/40/852/the-beatl...   \n",
       "\n",
       "                                                text    label  \n",
       "0  The Beatles - Junk\\n(demo)\\n\\nMotorcars\\n\\nHan...  beatles  \n",
       "1  The Beatles - Sure To Fall (In Love With You)\\...  beatles  \n",
       "2  The Beatles - Glad All Over\\nAin`t no doubt ab...  beatles  \n",
       "3  The Beatles - Everybody's Got Something To Hid...  beatles  \n",
       "4  The Beatles - From Us To You\\nDa da da da da d...  beatles  "
      ]
     },
     "execution_count": 5,
     "metadata": {},
     "output_type": "execute_result"
    }
   ],
   "source": [
    "df = pd.read_csv(f\"songs_bs.csv\")\n",
    "df.head()"
   ]
  },
  {
   "cell_type": "code",
   "execution_count": 6,
   "metadata": {},
   "outputs": [
    {
     "data": {
      "text/plain": [
       "Index(['web-scraper-order', 'web-scraper-start-url', 'pages', 'pages-href',\n",
       "       'songs', 'songs-href', 'text', 'label'],\n",
       "      dtype='object')"
      ]
     },
     "execution_count": 6,
     "metadata": {},
     "output_type": "execute_result"
    }
   ],
   "source": [
    "df.columns"
   ]
  },
  {
   "cell_type": "code",
   "execution_count": 7,
   "metadata": {},
   "outputs": [],
   "source": [
    "#select columns\n",
    "df = df[['text', 'label']]"
   ]
  },
  {
   "cell_type": "code",
   "execution_count": 8,
   "metadata": {},
   "outputs": [],
   "source": [
    "#rename columns\n",
    "df.rename(columns= {}, inplace=True)"
   ]
  },
  {
   "cell_type": "code",
   "execution_count": 9,
   "metadata": {},
   "outputs": [
    {
     "data": {
      "text/html": [
       "<div>\n",
       "<style scoped>\n",
       "    .dataframe tbody tr th:only-of-type {\n",
       "        vertical-align: middle;\n",
       "    }\n",
       "\n",
       "    .dataframe tbody tr th {\n",
       "        vertical-align: top;\n",
       "    }\n",
       "\n",
       "    .dataframe thead th {\n",
       "        text-align: right;\n",
       "    }\n",
       "</style>\n",
       "<table border=\"1\" class=\"dataframe\">\n",
       "  <thead>\n",
       "    <tr style=\"text-align: right;\">\n",
       "      <th></th>\n",
       "      <th>text</th>\n",
       "      <th>label</th>\n",
       "    </tr>\n",
       "  </thead>\n",
       "  <tbody>\n",
       "    <tr>\n",
       "      <th>0</th>\n",
       "      <td>The Beatles - Junk\\n(demo)\\n\\nMotorcars\\n\\nHan...</td>\n",
       "      <td>beatles</td>\n",
       "    </tr>\n",
       "    <tr>\n",
       "      <th>1</th>\n",
       "      <td>The Beatles - Sure To Fall (In Love With You)\\...</td>\n",
       "      <td>beatles</td>\n",
       "    </tr>\n",
       "    <tr>\n",
       "      <th>2</th>\n",
       "      <td>The Beatles - Glad All Over\\nAin`t no doubt ab...</td>\n",
       "      <td>beatles</td>\n",
       "    </tr>\n",
       "    <tr>\n",
       "      <th>3</th>\n",
       "      <td>The Beatles - Everybody's Got Something To Hid...</td>\n",
       "      <td>beatles</td>\n",
       "    </tr>\n",
       "    <tr>\n",
       "      <th>4</th>\n",
       "      <td>The Beatles - From Us To You\\nDa da da da da d...</td>\n",
       "      <td>beatles</td>\n",
       "    </tr>\n",
       "  </tbody>\n",
       "</table>\n",
       "</div>"
      ],
      "text/plain": [
       "                                                text    label\n",
       "0  The Beatles - Junk\\n(demo)\\n\\nMotorcars\\n\\nHan...  beatles\n",
       "1  The Beatles - Sure To Fall (In Love With You)\\...  beatles\n",
       "2  The Beatles - Glad All Over\\nAin`t no doubt ab...  beatles\n",
       "3  The Beatles - Everybody's Got Something To Hid...  beatles\n",
       "4  The Beatles - From Us To You\\nDa da da da da d...  beatles"
      ]
     },
     "execution_count": 9,
     "metadata": {},
     "output_type": "execute_result"
    }
   ],
   "source": [
    "#del df['ColumName']\n",
    "df.head()\n"
   ]
  },
  {
   "cell_type": "code",
   "execution_count": 10,
   "metadata": {},
   "outputs": [],
   "source": [
    "from bs4 import BeautifulSoup"
   ]
  },
  {
   "cell_type": "code",
   "execution_count": 11,
   "metadata": {},
   "outputs": [],
   "source": [
    "df['text'] = df['text'].astype(str)"
   ]
  },
  {
   "cell_type": "code",
   "execution_count": 12,
   "metadata": {},
   "outputs": [],
   "source": [
    "df['text'] = df['text'].apply(lambda x: BeautifulSoup(x, 'lxml').get_text())"
   ]
  },
  {
   "cell_type": "code",
   "execution_count": 13,
   "metadata": {},
   "outputs": [
    {
     "data": {
      "text/plain": [
       "0    The Beatles - Junk\\n(demo)\\n\\nMotorcars\\n\\nHan...\n",
       "1    The Beatles - Sure To Fall (In Love With You)\\...\n",
       "2    The Beatles - Glad All Over\\nAin`t no doubt ab...\n",
       "3    The Beatles - Everybody's Got Something To Hid...\n",
       "4    The Beatles - From Us To You\\nDa da da da da d...\n",
       "Name: text, dtype: object"
      ]
     },
     "execution_count": 13,
     "metadata": {},
     "output_type": "execute_result"
    }
   ],
   "source": [
    "df['text'].head()"
   ]
  },
  {
   "cell_type": "code",
   "execution_count": 14,
   "metadata": {},
   "outputs": [],
   "source": [
    "df.replace({'The Beatles -': ''}, regex=True, inplace=True)"
   ]
  },
  {
   "cell_type": "code",
   "execution_count": 15,
   "metadata": {},
   "outputs": [],
   "source": [
    "df.replace({'Rolling Stones -': ''}, regex=True, inplace=True)"
   ]
  },
  {
   "cell_type": "code",
   "execution_count": 16,
   "metadata": {},
   "outputs": [
    {
     "data": {
      "text/plain": [
       "0     Junk\\n(demo)\\n\\nMotorcars\\n\\nHandlebars\\n\\nBi...\n",
       "1     Sure To Fall (In Love With You)\\nI`m sure to ...\n",
       "2     Glad All Over\\nAin`t no doubt about it\\n\\nThi...\n",
       "3     Everybody's Got Something To Hide Except For ...\n",
       "4     From Us To You\\nDa da da da da dum dum dum\\n\\...\n",
       "Name: text, dtype: object"
      ]
     },
     "execution_count": 16,
     "metadata": {},
     "output_type": "execute_result"
    }
   ],
   "source": [
    "df['text'].head()"
   ]
  },
  {
   "cell_type": "code",
   "execution_count": 17,
   "metadata": {},
   "outputs": [],
   "source": [
    "columns_fill_zero = []"
   ]
  },
  {
   "cell_type": "code",
   "execution_count": 18,
   "metadata": {},
   "outputs": [],
   "source": [
    "columns_fill_string = ['text']"
   ]
  },
  {
   "cell_type": "code",
   "execution_count": 19,
   "metadata": {},
   "outputs": [
    {
     "name": "stderr",
     "output_type": "stream",
     "text": [
      "/home/martijn/anaconda3/envs/FastAI_P37/lib/python3.7/site-packages/pandas/core/frame.py:3790: SettingWithCopyWarning: \n",
      "A value is trying to be set on a copy of a slice from a DataFrame\n",
      "\n",
      "See the caveats in the documentation: http://pandas.pydata.org/pandas-docs/stable/indexing.html#indexing-view-versus-copy\n",
      "  downcast=downcast, **kwargs)\n"
     ]
    }
   ],
   "source": [
    "df[columns_fill_string] = df[columns_fill_string].fillna(\"\")\n",
    "df[columns_fill_zero].fillna(0, inplace=True)"
   ]
  },
  {
   "cell_type": "code",
   "execution_count": 20,
   "metadata": {},
   "outputs": [
    {
     "data": {
      "text/html": [
       "<div>\n",
       "<style scoped>\n",
       "    .dataframe tbody tr th:only-of-type {\n",
       "        vertical-align: middle;\n",
       "    }\n",
       "\n",
       "    .dataframe tbody tr th {\n",
       "        vertical-align: top;\n",
       "    }\n",
       "\n",
       "    .dataframe thead th {\n",
       "        text-align: right;\n",
       "    }\n",
       "</style>\n",
       "<table border=\"1\" class=\"dataframe\">\n",
       "  <thead>\n",
       "    <tr style=\"text-align: right;\">\n",
       "      <th></th>\n",
       "      <th>text</th>\n",
       "    </tr>\n",
       "  </thead>\n",
       "  <tbody>\n",
       "    <tr>\n",
       "      <th>0</th>\n",
       "      <td>Junk\\n(demo)\\n\\nMotorcars\\n\\nHandlebars\\n\\nBi...</td>\n",
       "    </tr>\n",
       "    <tr>\n",
       "      <th>1</th>\n",
       "      <td>Sure To Fall (In Love With You)\\nI`m sure to ...</td>\n",
       "    </tr>\n",
       "    <tr>\n",
       "      <th>2</th>\n",
       "      <td>Glad All Over\\nAin`t no doubt about it\\n\\nThi...</td>\n",
       "    </tr>\n",
       "    <tr>\n",
       "      <th>3</th>\n",
       "      <td>Everybody's Got Something To Hide Except For ...</td>\n",
       "    </tr>\n",
       "    <tr>\n",
       "      <th>4</th>\n",
       "      <td>From Us To You\\nDa da da da da dum dum dum\\n\\...</td>\n",
       "    </tr>\n",
       "  </tbody>\n",
       "</table>\n",
       "</div>"
      ],
      "text/plain": [
       "                                                text\n",
       "0   Junk\\n(demo)\\n\\nMotorcars\\n\\nHandlebars\\n\\nBi...\n",
       "1   Sure To Fall (In Love With You)\\nI`m sure to ...\n",
       "2   Glad All Over\\nAin`t no doubt about it\\n\\nThi...\n",
       "3   Everybody's Got Something To Hide Except For ...\n",
       "4   From Us To You\\nDa da da da da dum dum dum\\n\\..."
      ]
     },
     "execution_count": 20,
     "metadata": {},
     "output_type": "execute_result"
    }
   ],
   "source": [
    "df[columns_fill_string +columns_fill_zero].head()"
   ]
  },
  {
   "cell_type": "code",
   "execution_count": 21,
   "metadata": {},
   "outputs": [],
   "source": [
    "df['length'] = len(df['text'])"
   ]
  },
  {
   "cell_type": "code",
   "execution_count": 22,
   "metadata": {
    "ExecuteTime": {
     "end_time": "2018-10-02T18:12:51.496536Z",
     "start_time": "2018-10-02T18:12:51.302510Z"
    }
   },
   "outputs": [],
   "source": [
    "df = df.sort_values(by=['length'], ascending=False)"
   ]
  },
  {
   "cell_type": "code",
   "execution_count": 23,
   "metadata": {
    "ExecuteTime": {
     "end_time": "2018-10-02T18:13:01.966728Z",
     "start_time": "2018-10-02T18:13:01.812465Z"
    }
   },
   "outputs": [],
   "source": [
    "#df = df[df['length'] > 100] #take text with more then 100 words"
   ]
  },
  {
   "cell_type": "code",
   "execution_count": 24,
   "metadata": {
    "ExecuteTime": {
     "end_time": "2018-10-02T18:13:13.615807Z",
     "start_time": "2018-10-02T18:13:13.478801Z"
    }
   },
   "outputs": [
    {
     "name": "stdout",
     "output_type": "stream",
     "text": [
      "<class 'pandas.core.frame.DataFrame'>\n",
      "Int64Index: 641 entries, 0 to 640\n",
      "Data columns (total 3 columns):\n",
      "text      641 non-null object\n",
      "label     641 non-null object\n",
      "length    641 non-null int64\n",
      "dtypes: int64(1), object(2)\n",
      "memory usage: 20.0+ KB\n"
     ]
    }
   ],
   "source": [
    "df.info()"
   ]
  },
  {
   "cell_type": "code",
   "execution_count": 25,
   "metadata": {},
   "outputs": [],
   "source": [
    "#save the cleaned file\n",
    "df.to_csv(f\"clean.csv\", index=False, header=True)"
   ]
  },
  {
   "cell_type": "code",
   "execution_count": 26,
   "metadata": {},
   "outputs": [],
   "source": [
    "df = pd.read_csv(f\"clean.csv\")"
   ]
  },
  {
   "cell_type": "markdown",
   "metadata": {},
   "source": [
    "## Some statistics of dataset"
   ]
  },
  {
   "cell_type": "markdown",
   "metadata": {},
   "source": [
    "### Number of documents"
   ]
  },
  {
   "cell_type": "code",
   "execution_count": 27,
   "metadata": {
    "ExecuteTime": {
     "end_time": "2018-10-02T18:24:24.879762Z",
     "start_time": "2018-10-02T18:24:24.752725Z"
    }
   },
   "outputs": [
    {
     "data": {
      "text/plain": [
       "((641, 3), Index(['text', 'label', 'length'], dtype='object'))"
      ]
     },
     "execution_count": 27,
     "metadata": {},
     "output_type": "execute_result"
    }
   ],
   "source": [
    "df.shape, df.columns"
   ]
  },
  {
   "cell_type": "markdown",
   "metadata": {},
   "source": [
    "### Number of words in all the documents"
   ]
  },
  {
   "cell_type": "code",
   "execution_count": 28,
   "metadata": {},
   "outputs": [],
   "source": [
    "df['text'] = df['text'].astype(str)"
   ]
  },
  {
   "cell_type": "code",
   "execution_count": 29,
   "metadata": {
    "ExecuteTime": {
     "end_time": "2018-10-02T18:24:31.279287Z",
     "start_time": "2018-10-02T18:24:27.297288Z"
    }
   },
   "outputs": [
    {
     "data": {
      "text/plain": [
       "126632"
      ]
     },
     "execution_count": 29,
     "metadata": {},
     "output_type": "execute_result"
    }
   ],
   "source": [
    "df['text'].apply(lambda x: len(x.split(\" \"))).sum()"
   ]
  },
  {
   "cell_type": "markdown",
   "metadata": {},
   "source": [
    "### Number of unique tokens across documents"
   ]
  },
  {
   "cell_type": "code",
   "execution_count": 30,
   "metadata": {
    "ExecuteTime": {
     "end_time": "2018-10-02T18:18:07.385037Z",
     "start_time": "2018-10-02T18:17:47.390309Z"
    }
   },
   "outputs": [
    {
     "data": {
      "text/plain": [
       "14649"
      ]
     },
     "execution_count": 30,
     "metadata": {},
     "output_type": "execute_result"
    }
   ],
   "source": [
    "len(set(''.join(df['text'].values).split(\" \")))"
   ]
  },
  {
   "cell_type": "markdown",
   "metadata": {},
   "source": [
    "# Classifier"
   ]
  },
  {
   "cell_type": "code",
   "execution_count": 31,
   "metadata": {},
   "outputs": [],
   "source": [
    "bs  = 24"
   ]
  },
  {
   "cell_type": "code",
   "execution_count": 32,
   "metadata": {},
   "outputs": [
    {
     "name": "stdout",
     "output_type": "stream",
     "text": [
      "<class 'pandas.core.frame.DataFrame'>\n",
      "RangeIndex: 641 entries, 0 to 640\n",
      "Data columns (total 3 columns):\n",
      "text      641 non-null object\n",
      "label     641 non-null object\n",
      "length    641 non-null int64\n",
      "dtypes: int64(1), object(2)\n",
      "memory usage: 15.1+ KB\n"
     ]
    }
   ],
   "source": [
    "df = pd.read_csv(\"clean.csv\")\n",
    "df['text'] = df['text'].astype(str)\n",
    "df.info()\n"
   ]
  },
  {
   "cell_type": "code",
   "execution_count": 33,
   "metadata": {},
   "outputs": [
    {
     "data": {
      "text/html": [
       "<div>\n",
       "<style scoped>\n",
       "    .dataframe tbody tr th:only-of-type {\n",
       "        vertical-align: middle;\n",
       "    }\n",
       "\n",
       "    .dataframe tbody tr th {\n",
       "        vertical-align: top;\n",
       "    }\n",
       "\n",
       "    .dataframe thead th {\n",
       "        text-align: right;\n",
       "    }\n",
       "</style>\n",
       "<table border=\"1\" class=\"dataframe\">\n",
       "  <thead>\n",
       "    <tr style=\"text-align: right;\">\n",
       "      <th></th>\n",
       "      <th>text</th>\n",
       "      <th>label</th>\n",
       "    </tr>\n",
       "  </thead>\n",
       "  <tbody>\n",
       "    <tr>\n",
       "      <th>0</th>\n",
       "      <td>Junk\\n(demo)\\n\\nMotorcars\\n\\nHandlebars\\n\\nBi...</td>\n",
       "      <td>beatles</td>\n",
       "    </tr>\n",
       "    <tr>\n",
       "      <th>1</th>\n",
       "      <td>Susie Q\\nOh, Susie Q\\n\\nOh, Susie Q\\n\\nOh, Su...</td>\n",
       "      <td>stones</td>\n",
       "    </tr>\n",
       "    <tr>\n",
       "      <th>2</th>\n",
       "      <td>Like A Rolling Stone\\nOnce upon a time you dr...</td>\n",
       "      <td>stones</td>\n",
       "    </tr>\n",
       "    <tr>\n",
       "      <th>3</th>\n",
       "      <td>Uptight\\nBaby, everything is all right, uptig...</td>\n",
       "      <td>stones</td>\n",
       "    </tr>\n",
       "    <tr>\n",
       "      <th>4</th>\n",
       "      <td>You Better Move On\\nYou ask me to give up the...</td>\n",
       "      <td>stones</td>\n",
       "    </tr>\n",
       "  </tbody>\n",
       "</table>\n",
       "</div>"
      ],
      "text/plain": [
       "                                                text    label\n",
       "0   Junk\\n(demo)\\n\\nMotorcars\\n\\nHandlebars\\n\\nBi...  beatles\n",
       "1   Susie Q\\nOh, Susie Q\\n\\nOh, Susie Q\\n\\nOh, Su...   stones\n",
       "2   Like A Rolling Stone\\nOnce upon a time you dr...   stones\n",
       "3   Uptight\\nBaby, everything is all right, uptig...   stones\n",
       "4   You Better Move On\\nYou ask me to give up the...   stones"
      ]
     },
     "execution_count": 33,
     "metadata": {},
     "output_type": "execute_result"
    }
   ],
   "source": [
    "df_clas = df[['text', 'label']]\n",
    "df_clas.head()"
   ]
  },
  {
   "cell_type": "code",
   "execution_count": 34,
   "metadata": {},
   "outputs": [],
   "source": [
    "data_clas = (TextList.from_df(df_clas)\n",
    "             .random_split_by_pct(0.1)\n",
    "             .label_from_df(cols=1)      \n",
    "             .databunch(bs = bs))\n",
    "data_clas.save('tmp_clas')"
   ]
  },
  {
   "cell_type": "code",
   "execution_count": 35,
   "metadata": {},
   "outputs": [],
   "source": [
    "data_clas = TextClasDataBunch.load('tmp_clas', bs = bs)"
   ]
  },
  {
   "cell_type": "code",
   "execution_count": 36,
   "metadata": {},
   "outputs": [
    {
     "data": {
      "text/html": [
       "<table>  <col width='90%'>  <col width='10%'>  <tr>\n",
       "    <th>text</th>\n",
       "    <th>label</th>\n",
       "  </tr>\n",
       "  <tr>\n",
       "    <th>xxbos invitation \\n okay ... \\n  baby , yeah \\n  lovin ` , lovin ` \\n \\n  baby ... \\n  oh , i`m sending out invitations \\n  i`m gon na have me a big celebration , ... bration \\n  i`m givin ` up everything</th>\n",
       "    <th>stones</th>\n",
       "  </tr>\n",
       "  <tr>\n",
       "    <th>xxbos no spare parts \\n baby , baby , baby , baby ... \\n \\n  daddy drunk , daddy drunk himself to death \\n  when he was thirty - five years old \\n  left five daughters an ` book ` em on the cayman row \\n </th>\n",
       "    <th>stones</th>\n",
       "  </tr>\n",
       "  <tr>\n",
       "    <th>xxbos cops and robbers \\n as i was driving home along the boulevard late one night \\n  i saw a guy in the corner , bumming all alone \\n  as i passed him by , i heard him holler out : \" hey ! \" \\n  i</th>\n",
       "    <th>stones</th>\n",
       "  </tr>\n",
       "</table>\n"
      ],
      "text/plain": [
       "<IPython.core.display.HTML object>"
      ]
     },
     "metadata": {},
     "output_type": "display_data"
    }
   ],
   "source": [
    "data_clas.show_batch()"
   ]
  },
  {
   "cell_type": "code",
   "execution_count": 37,
   "metadata": {},
   "outputs": [],
   "source": [
    "learn_clas = text_classifier_learner(data_clas, drop_mult=0.5)\n"
   ]
  },
  {
   "cell_type": "code",
   "execution_count": 65,
   "metadata": {},
   "outputs": [
    {
     "name": "stdout",
     "output_type": "stream",
     "text": [
      "LR Finder is complete, type {learner_name}.recorder.plot() to see the graph.\n"
     ]
    }
   ],
   "source": [
    "learn_clas.lr_find()"
   ]
  },
  {
   "cell_type": "code",
   "execution_count": 66,
   "metadata": {},
   "outputs": [
    {
     "data": {
      "image/png": "[encoded data removed]",
      "text/plain": [
       "<Figure size 432x288 with 1 Axes>"
      ]
     },
     "metadata": {
      "needs_background": "light"
     },
     "output_type": "display_data"
    }
   ],
   "source": [
    "learn_clas.recorder.plot()"
   ]
  },
  {
   "cell_type": "code",
   "execution_count": 40,
   "metadata": {},
   "outputs": [
    {
     "name": "stdout",
     "output_type": "stream",
     "text": [
      "Total time: 00:54\n",
      "epoch  train_loss  valid_loss  accuracy\n",
      "1      0.652772    0.813732    0.359375  (00:18)\n",
      "2      0.689725    0.684798    0.640625  (00:19)\n",
      "3      0.695027    0.670322    0.671875  (00:17)\n",
      "\n"
     ]
    }
   ],
   "source": [
    "learn_clas.fit_one_cycle(3, 5e-3, moms=(0.8,0.7))"
   ]
  },
  {
   "cell_type": "code",
   "execution_count": 41,
   "metadata": {},
   "outputs": [],
   "source": [
    "learn_clas.save('clas_first')"
   ]
  },
  {
   "cell_type": "code",
   "execution_count": 42,
   "metadata": {},
   "outputs": [],
   "source": [
    "learn_clas.load('clas_first');"
   ]
  },
  {
   "cell_type": "code",
   "execution_count": 43,
   "metadata": {},
   "outputs": [
    {
     "name": "stdout",
     "output_type": "stream",
     "text": [
      "Total time: 00:10\n",
      "epoch  train_loss  valid_loss  accuracy\n",
      "1      0.689733    0.668909    0.656250  (00:10)\n",
      "\n"
     ]
    }
   ],
   "source": [
    "learn_clas.freeze_to(-2)\n",
    "learn_clas.fit_one_cycle(1, slice(1e-3/(2.6**4),1e-3), moms=(0.8,0.7))"
   ]
  },
  {
   "cell_type": "code",
   "execution_count": 44,
   "metadata": {},
   "outputs": [],
   "source": [
    "learn_clas.save('clas_second')"
   ]
  },
  {
   "cell_type": "code",
   "execution_count": 45,
   "metadata": {},
   "outputs": [
    {
     "name": "stdout",
     "output_type": "stream",
     "text": [
      "Total time: 01:08\n",
      "epoch  train_loss  valid_loss  accuracy\n",
      "1      0.695243    0.673441    0.625000  (00:13)\n",
      "2      0.692670    0.665286    0.656250  (00:14)\n",
      "3      0.691064    0.667855    0.656250  (00:13)\n",
      "4      0.688279    0.670281    0.656250  (00:13)\n",
      "5      0.691815    0.671360    0.656250  (00:13)\n",
      "\n"
     ]
    }
   ],
   "source": [
    "learn_clas.freeze_to(-3)\n",
    "learn_clas.fit_one_cycle(5, slice(1e-3/(2.6**4),1e-3), moms=(0.8,0.7))"
   ]
  },
  {
   "cell_type": "markdown",
   "metadata": {},
   "source": [
    "Results with LM\n",
    "\n",
    "Total time: 01:10\n",
    "epoch  train_loss  valid_loss  accuracy\n",
    "1      0.155902    0.197050    0.921875  (00:13)\n",
    "2      0.153857    0.178206    0.906250  (00:14)\n",
    "3      0.126480    0.214810    0.906250  (00:13)\n",
    "4      0.103315    0.251961    0.906250  (00:14)\n",
    "5      0.091110    0.200896    0.906250  (00:14)\n",
    "\n"
   ]
  },
  {
   "cell_type": "code",
   "execution_count": 46,
   "metadata": {},
   "outputs": [],
   "source": [
    "learn_clas.save('clas_third_no_lm')"
   ]
  },
  {
   "cell_type": "code",
   "execution_count": 64,
   "metadata": {},
   "outputs": [],
   "source": [
    "#learn_clas.load('clas_third_no_lm')"
   ]
  },
  {
   "cell_type": "code",
   "execution_count": 67,
   "metadata": {},
   "outputs": [
    {
     "name": "stdout",
     "output_type": "stream",
     "text": [
      "Total time: 01:23\n",
      "epoch  train_loss  valid_loss  accuracy\n",
      "1      0.694296    0.646066    0.656250  (00:16)\n",
      "2      0.693648    0.644056    0.656250  (00:16)\n",
      "3      0.694456    0.674458    0.656250  (00:16)\n",
      "4      0.694803    0.669425    0.640625  (00:17)\n",
      "5      0.689093    0.665548    0.640625  (00:16)\n",
      "\n"
     ]
    }
   ],
   "source": [
    "learn_clas.unfreeze()\n",
    "learn_clas.fit_one_cycle(5, slice(5e-3/(2.6**4),5e-3), moms=(0.8,0.7))"
   ]
  },
  {
   "cell_type": "code",
   "execution_count": 48,
   "metadata": {},
   "outputs": [],
   "source": [
    "learn_clas.save('clas_fourth_no_lm')"
   ]
  },
  {
   "cell_type": "code",
   "execution_count": 68,
   "metadata": {},
   "outputs": [
    {
     "name": "stdout",
     "output_type": "stream",
     "text": [
      "Total time: 01:22\n",
      "epoch  train_loss  valid_loss  accuracy\n",
      "1      0.693038    0.661084    0.640625  (00:15)\n",
      "2      0.693060    0.667138    0.640625  (00:16)\n",
      "3      0.688897    0.659143    0.640625  (00:16)\n",
      "4      0.689206    0.663740    0.640625  (00:16)\n",
      "5      0.694486    0.662008    0.640625  (00:16)\n",
      "\n"
     ]
    }
   ],
   "source": [
    "learn_clas.unfreeze()\n",
    "learn_clas.fit_one_cycle(5, slice(5e-5/(2.6**4),5e-5), moms=(0.8,0.7))"
   ]
  },
  {
   "cell_type": "markdown",
   "metadata": {},
   "source": [
    "Results with LM \n",
    "\n",
    "Total time: 01:25\n",
    "epoch  train_loss  valid_loss  accuracy\n",
    "1      0.039479    0.153723    0.921875  (00:16)\n",
    "2      0.033728    0.172656    0.906250  (00:17)\n",
    "3      0.044471    0.167591    0.906250  (00:17)\n",
    "4      0.039790    0.144773    0.937500  (00:17)\n",
    "5      0.043201    0.148395    0.921875  (00:16)\n",
    "\n"
   ]
  },
  {
   "cell_type": "code",
   "execution_count": 50,
   "metadata": {},
   "outputs": [],
   "source": [
    "learn_clas.save('clas_fifth_no_lm')"
   ]
  },
  {
   "cell_type": "code",
   "execution_count": 51,
   "metadata": {},
   "outputs": [
    {
     "data": {
      "text/html": [
       "<div>\n",
       "<style scoped>\n",
       "    .dataframe tbody tr th:only-of-type {\n",
       "        vertical-align: middle;\n",
       "    }\n",
       "\n",
       "    .dataframe tbody tr th {\n",
       "        vertical-align: top;\n",
       "    }\n",
       "\n",
       "    .dataframe thead th {\n",
       "        text-align: right;\n",
       "    }\n",
       "</style>\n",
       "<table border=\"1\" class=\"dataframe\">\n",
       "  <thead>\n",
       "    <tr style=\"text-align: right;\">\n",
       "      <th></th>\n",
       "      <th>text</th>\n",
       "      <th>label</th>\n",
       "    </tr>\n",
       "  </thead>\n",
       "  <tbody>\n",
       "    <tr>\n",
       "      <th>0</th>\n",
       "      <td>Junk\\n(demo)\\n\\nMotorcars\\n\\nHandlebars\\n\\nBi...</td>\n",
       "      <td>beatles</td>\n",
       "    </tr>\n",
       "    <tr>\n",
       "      <th>1</th>\n",
       "      <td>Susie Q\\nOh, Susie Q\\n\\nOh, Susie Q\\n\\nOh, Su...</td>\n",
       "      <td>stones</td>\n",
       "    </tr>\n",
       "    <tr>\n",
       "      <th>2</th>\n",
       "      <td>Like A Rolling Stone\\nOnce upon a time you dr...</td>\n",
       "      <td>stones</td>\n",
       "    </tr>\n",
       "    <tr>\n",
       "      <th>3</th>\n",
       "      <td>Uptight\\nBaby, everything is all right, uptig...</td>\n",
       "      <td>stones</td>\n",
       "    </tr>\n",
       "    <tr>\n",
       "      <th>4</th>\n",
       "      <td>You Better Move On\\nYou ask me to give up the...</td>\n",
       "      <td>stones</td>\n",
       "    </tr>\n",
       "  </tbody>\n",
       "</table>\n",
       "</div>"
      ],
      "text/plain": [
       "                                                text    label\n",
       "0   Junk\\n(demo)\\n\\nMotorcars\\n\\nHandlebars\\n\\nBi...  beatles\n",
       "1   Susie Q\\nOh, Susie Q\\n\\nOh, Susie Q\\n\\nOh, Su...   stones\n",
       "2   Like A Rolling Stone\\nOnce upon a time you dr...   stones\n",
       "3   Uptight\\nBaby, everything is all right, uptig...   stones\n",
       "4   You Better Move On\\nYou ask me to give up the...   stones"
      ]
     },
     "execution_count": 51,
     "metadata": {},
     "output_type": "execute_result"
    }
   ],
   "source": [
    "df_clas.head()"
   ]
  },
  {
   "cell_type": "code",
   "execution_count": 245,
   "metadata": {},
   "outputs": [
    {
     "data": {
      "text/plain": [
       "1     Susie Q\\nOh, Susie Q\\n\\nOh, Susie Q\\n\\nOh, Su...\n",
       "2     Like A Rolling Stone\\nOnce upon a time you dr...\n",
       "3     Uptight\\nBaby, everything is all right, uptig...\n",
       "4     You Better Move On\\nYou ask me to give up the...\n",
       "5     Long Long While\\nBaby, baby been a long, long...\n",
       "Name: text, dtype: object"
      ]
     },
     "execution_count": 245,
     "metadata": {},
     "output_type": "execute_result"
    }
   ],
   "source": [
    "df_val_true = df_clas.loc[df_clas['label']== 'stones']['text']\n",
    "df_val_true.head()"
   ]
  },
  {
   "cell_type": "code",
   "execution_count": 180,
   "metadata": {},
   "outputs": [
    {
     "data": {
      "text/plain": [
       "\" Susie Q\\nOh, Susie Q\\n\\nOh, Susie Q\\n\\nOh, Susie Q\\n\\nI love you\\n\\nMy Susie Q\\n\\nI love the way you walk\\n\\nI love the way you talk\\n\\nLove the way you walk\\n\\nI love the way you talk\\n\\nMy Susie Q\\n\\nSay that you'll be true\\n\\nSay that you'll be true\\n\\nSay that you'll be true\\n\\nAnd never leave me blue\\n\\nMy Susie Q\\n\\nOh, Susie Q\\n\\nOh, Susie Q\\n\\nOh, Susie Q\\n\\nHoney I love you\\n\\nMy Susie Q  \""
      ]
     },
     "execution_count": 180,
     "metadata": {},
     "output_type": "execute_result"
    }
   ],
   "source": [
    "df_val_true[1]"
   ]
  },
  {
   "cell_type": "code",
   "execution_count": 52,
   "metadata": {},
   "outputs": [],
   "source": [
    "#new beatles tekst not in the training or validation\n",
    "test_b = 'All you need is love, love. Love is all you need. '"
   ]
  },
  {
   "cell_type": "code",
   "execution_count": 53,
   "metadata": {},
   "outputs": [],
   "source": [
    "#new stones tekst not in the training or validation\n",
    "test_s = \"I cant get no satisfaction cause I try and I try\""
   ]
  },
  {
   "cell_type": "code",
   "execution_count": 54,
   "metadata": {},
   "outputs": [],
   "source": [
    "arr_results = []"
   ]
  },
  {
   "cell_type": "code",
   "execution_count": 55,
   "metadata": {},
   "outputs": [
    {
     "data": {
      "text/plain": [
       "('beatles', tensor(0.5056), ('beatles', tensor(0), tensor([0.5056, 0.4944])))"
      ]
     },
     "execution_count": 55,
     "metadata": {},
     "output_type": "execute_result"
    }
   ],
   "source": [
    "pe = learn_clas.predict(test_b)\n",
    "pe[0], pe[2].data[0], pe\n"
   ]
  },
  {
   "cell_type": "code",
   "execution_count": 56,
   "metadata": {},
   "outputs": [
    {
     "data": {
      "text/plain": [
       "('stones', tensor(0.4954), ('stones', tensor(1), tensor([0.4954, 0.5046])))"
      ]
     },
     "execution_count": 56,
     "metadata": {},
     "output_type": "execute_result"
    }
   ],
   "source": [
    "pe = learn_clas.predict(test_s)\n",
    "pe[0], pe[2].data[0], pe"
   ]
  },
  {
   "cell_type": "markdown",
   "metadata": {},
   "source": [
    "#prediction with LM\n",
    "('stones', tensor(0.1157), ('stones', tensor(1), tensor([0.1157, 0.8843])))"
   ]
  },
  {
   "cell_type": "code",
   "execution_count": 57,
   "metadata": {},
   "outputs": [],
   "source": [
    "song_b = \"A bad little kid moved in to my neighborhood He won`t do nothing right just sitting down and looks so good He don`t want to go to school and learn to read and write Just sits around the house and plays that rock and roll music all night  Well, he put some tacks on teachers chair Puts chewing gum in little girl`s hair Now, junior, behave yourself! Buy every rock and roll book on the magazine stand Every dime that he get-ooh is lost to the jukebox man Well he worries his teacher till at night she`s a-ready to poop From rockin` and a-rollin`, spinnin` in a hula hoop! Well this rock and roll has gotta stop Junior`s head is hard as rock Now, junior, behave yourself! ow!\"\n",
    "song_b2 = \"Blackbird singing in the dead of night Take these broken wings and learn to fly All your life You were only waiting for this moment to arise  Blackbird singing in the dead of night Take these sunken eyes and learn to see All your life You were only waiting for this moment to be free.  Blackbird fly, Blackbird fly Into the light of a dark black night.  Blackbird fly, Blackbird fly  Into the light of a dark black night.  Blackbird singing in the dead of night  Take these broken wings and learn to fly All your life You were only waiting for this moment to arise You were only waiting for this moment to arise You were only waiting for this moment to arise\" "
   ]
  },
  {
   "cell_type": "code",
   "execution_count": 58,
   "metadata": {},
   "outputs": [
    {
     "name": "stdout",
     "output_type": "stream",
     "text": [
      "('stones', tensor(1), tensor([0.4721, 0.5279]))\n"
     ]
    }
   ],
   "source": [
    "pe = learn_clas.predict(song_b2)\n",
    "print(pe)"
   ]
  },
  {
   "cell_type": "code",
   "execution_count": 59,
   "metadata": {},
   "outputs": [],
   "source": [
    "song_s = \"When I'm ridin round the world And I'm doin this and I'm signing that And I'm tryin to make some girl Who tells me baby better come back later next week  cause you see I'm on losing streak I can't get no, oh no no no  \"\n",
    "song_s2 = \"I can't get no satisfaction I can't get no girl with action 'cause I try and I try and I try and I try I can't get no, I can't get no \""
   ]
  },
  {
   "cell_type": "code",
   "execution_count": 60,
   "metadata": {},
   "outputs": [
    {
     "data": {
      "text/plain": [
       "('stones', tensor(1), tensor([0.4684, 0.5316]))"
      ]
     },
     "execution_count": 60,
     "metadata": {},
     "output_type": "execute_result"
    }
   ],
   "source": [
    "learn_clas.predict(song_s)\n"
   ]
  }
 ],
 "metadata": {
  "gist": {
   "data": {
    "description": "mywork/Telugu_Language_Model.ipynb",
    "public": false
   },
   "id": ""
  },
  "kernelspec": {
   "display_name": "Python 3",
   "language": "python",
   "name": "python3"
  },
  "language_info": {
   "codemirror_mode": {
    "name": "ipython",
    "version": 3
   },
   "file_extension": ".py",
   "mimetype": "text/x-python",
   "name": "python",
   "nbconvert_exporter": "python",
   "pygments_lexer": "ipython3",
   "version": "3.7.0"
  }
 },
 "nbformat": 4,
 "nbformat_minor": 2
}
